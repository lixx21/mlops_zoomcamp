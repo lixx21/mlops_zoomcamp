{
 "cells": [
  {
   "cell_type": "code",
   "execution_count": 14,
   "metadata": {},
   "outputs": [
    {
     "ename": "ModuleNotFoundError",
     "evalue": "No module named 'prefect_email.credentials'; 'prefect_email' is not a package",
     "output_type": "error",
     "traceback": [
      "\u001b[1;31m---------------------------------------------------------------------------\u001b[0m",
      "\u001b[1;31mModuleNotFoundError\u001b[0m                       Traceback (most recent call last)",
      "Cell \u001b[1;32mIn[14], line 2\u001b[0m\n\u001b[0;32m      1\u001b[0m \u001b[39mfrom\u001b[39;00m \u001b[39mprefect\u001b[39;00m \u001b[39mimport\u001b[39;00m flow\n\u001b[1;32m----> 2\u001b[0m \u001b[39mfrom\u001b[39;00m \u001b[39mprefect_email\u001b[39;00m\u001b[39m.\u001b[39;00m\u001b[39mcredentials\u001b[39;00m \u001b[39mimport\u001b[39;00m EmailServerCredentials\n\u001b[0;32m      4\u001b[0m \u001b[39m@flow\u001b[39m\n\u001b[0;32m      5\u001b[0m \u001b[39mdef\u001b[39;00m \u001b[39mmy_flow\u001b[39m():\n\u001b[0;32m      6\u001b[0m     my_block \u001b[39m=\u001b[39m EmailServerCredentials\u001b[39m.\u001b[39mload(\u001b[39m\"\u001b[39m\u001b[39memail-cred\u001b[39m\u001b[39m\"\u001b[39m)\n",
      "\u001b[1;31mModuleNotFoundError\u001b[0m: No module named 'prefect_email.credentials'; 'prefect_email' is not a package"
     ]
    }
   ],
   "source": [
    "from prefect import flow\n",
    "from prefect_email.credentials import EmailServerCredentials\n",
    "\n",
    "@flow\n",
    "def my_flow():\n",
    "    my_block = EmailServerCredentials.load(\"email-cred\")\n",
    "\n",
    "my_flow()"
   ]
  }
 ],
 "metadata": {
  "kernelspec": {
   "display_name": "prefect-mlops",
   "language": "python",
   "name": "python3"
  },
  "language_info": {
   "codemirror_mode": {
    "name": "ipython",
    "version": 3
   },
   "file_extension": ".py",
   "mimetype": "text/x-python",
   "name": "python",
   "nbconvert_exporter": "python",
   "pygments_lexer": "ipython3",
   "version": "3.9.12"
  },
  "orig_nbformat": 4
 },
 "nbformat": 4,
 "nbformat_minor": 2
}
